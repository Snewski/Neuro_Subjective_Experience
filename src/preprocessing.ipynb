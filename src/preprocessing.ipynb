{
 "cells": [
  {
   "cell_type": "code",
   "execution_count": null,
   "id": "0e1ecf67",
   "metadata": {},
   "outputs": [],
   "source": [
    "import mne ## MNE-Python for analysing data\n",
    "%matplotlib widget \n",
    "from os import chdir\n",
    "from os.path import join\n",
    "import matplotlib.pyplot as plt ## for basic plotting\n",
    "import matplotlib as mpl ## for setting default parameters\n",
    "import pandas as pd\n",
    "import numpy as np"
   ]
  },
  {
   "cell_type": "code",
   "execution_count": null,
   "id": "b9748d86",
   "metadata": {},
   "outputs": [],
   "source": [
    "#%% SET DEFAULT PLOTTING PARAMETERS\n",
    "\n",
    "mpl.rcParams.update(mpl.rcParamsDefault)\n",
    "mpl.rcParams['font.size'] = 12\n",
    "mpl.rcParams['font.weight'] = 'bold'\n",
    "mpl.rcParams['lines.linewidth'] = 3\n",
    "plt.ion()"
   ]
  },
  {
   "cell_type": "code",
   "execution_count": null,
   "id": "9cbebc59",
   "metadata": {},
   "outputs": [],
   "source": [
    "MEG_path = '/work/MEG_data/workshop_data/0168/20250924_000000' ## you can pick your study group member\n",
    "subjects_dir = '/work/freesurfer'\n",
    "behaviour_path = '/work/MEG_data/workshop_data/behavioural_logs'"
   ]
  },
  {
   "cell_type": "code",
   "execution_count": null,
   "id": "1bcec941",
   "metadata": {},
   "outputs": [],
   "source": [
    "raw = mne.io.read_raw_fif(join(MEG_path, 'workshop_2025_raw.fif'), preload=True) \n",
    "fig = raw.plot() ## you will note this is completely saturated (all blue) do the PSD and find out why"
   ]
  },
  {
   "cell_type": "code",
   "execution_count": null,
   "id": "c84eb201",
   "metadata": {},
   "outputs": [],
   "source": [
    "#copy_bandpass = raw.copy()\n",
    "#copy_bandpass.filter(h_freq=40,   l_freq=1); ## bandpass fillter of 1-40 Hz\n",
    "\n",
    "raw.filter(h_freq=40, l_freq=1); ## this method \".filter()\" modifies in the object in place"
   ]
  },
  {
   "cell_type": "code",
   "execution_count": null,
   "id": "18d05b90",
   "metadata": {},
   "outputs": [],
   "source": [
    "## what does it look after choosing an appropriate filter?\n",
    "raw.compute_psd().plot()"
   ]
  },
  {
   "cell_type": "code",
   "execution_count": null,
   "id": "f1939c13",
   "metadata": {},
   "outputs": [],
   "source": [
    "#%% FIND EVENTS\n",
    "\n",
    "events = mne.find_events(raw, min_duration=0.002)\n",
    "\n",
    "events_filtered = events[(events[:, 2] == 1) | (events[:, 2] == 3)]\n",
    "pas_events = events_filtered.copy()   # keeps shape (n_events, 3)\n",
    "behaviour = pd.read_csv(join(behaviour_path, '0168_2025_09_24_135504_experiment_data.csv'), index_col=False)\n",
    "pas_events[:, 2] = behaviour['subjective_response'] + 20"
   ]
  },
  {
   "cell_type": "code",
   "execution_count": null,
   "id": "2184a5a5",
   "metadata": {},
   "outputs": [],
   "source": [
    "# Epochs\n",
    "event_id = {'pas1': 21, 'pas2': 22, 'pas3': 23, 'pas4': 24}\n",
    "epochs = mne.Epochs(raw, events=pas_events, event_id=event_id, tmin=-0.2, tmax=0.55, baseline=(None,0))"
   ]
  },
  {
   "cell_type": "code",
   "execution_count": null,
   "id": "4de7d05f",
   "metadata": {},
   "outputs": [],
   "source": [
    "## CREATING AVERAGES AND DIFFERENCE WAVES\n",
    "\n",
    "### NEW CODE\n",
    "\n",
    "evokeds = list()\n",
    "for event in epochs.event_id:\n",
    "    evokeds.append(epochs[event].average())\n",
    "\n",
    "## this might help you along\n",
    "evoked_diffs = list()\n",
    "diffs = ['pas1', 'pas2', 'pas3','pas4']\n",
    "for diff in diffs:\n",
    "    evoked_diff = evokeds[0].copy() # create a copy\n",
    "    evoked_diff.data -= evokeds[1].data # modify the data in place\n",
    "    evoked_diff.comment = diff"
   ]
  },
  {
   "cell_type": "code",
   "execution_count": null,
   "id": "71c62c9b",
   "metadata": {},
   "outputs": [],
   "source": [
    "mne.viz.plot_evoked(evoked_diff)"
   ]
  },
  {
   "cell_type": "code",
   "execution_count": null,
   "id": "c306056c",
   "metadata": {},
   "outputs": [],
   "source": [
    "## GET FORWARD MODEL\n",
    "\n",
    "### NEW CODE\n",
    "\n",
    "info = epochs.info\n",
    "trans = join(MEG_path, 'workshop_2025-trans.fif') \n",
    "src = join(subjects_dir, '0168', 'bem', '0168' + '-oct-6-src.fif')\n",
    "bem = join(subjects_dir, '0168', 'bem', '0168' + '-5120-bem-sol.fif')\n",
    "\n",
    "fwd = mne.make_forward_solution(\n",
    "                            info, trans,\n",
    "                            src, bem)"
   ]
  },
  {
   "cell_type": "code",
   "execution_count": null,
   "id": "96bb86e9",
   "metadata": {},
   "outputs": [],
   "source": []
  }
 ],
 "metadata": {
  "language_info": {
   "name": "python"
  }
 },
 "nbformat": 4,
 "nbformat_minor": 5
}
