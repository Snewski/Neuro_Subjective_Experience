{
 "cells": [
  {
   "cell_type": "code",
   "execution_count": 13,
   "id": "fe862039",
   "metadata": {},
   "outputs": [],
   "source": [
    "## Packages \n",
    "\n",
    "import json\n",
    "import numpy as np\n",
    "import mne\n",
    "import pandas as pd"
   ]
  },
  {
   "cell_type": "code",
   "execution_count": 14,
   "id": "a54f28a3",
   "metadata": {},
   "outputs": [],
   "source": [
    "## Subject info \n",
    "\n",
    "subject_info = {\n",
    "    '0164': {'date': '20251003', 'timestamp': '101853'},\n",
    "    '0165': {'date': '20250923', 'timestamp': '140007'},\n",
    "    '0168': {'date': '20250924', 'timestamp': '135504'},\n",
    "    '0169': {'date': '20250923', 'timestamp': '110138'},\n",
    "    '0170': {'date': '20250924', 'timestamp': '121645'}\n",
    "}\n"
   ]
  },
  {
   "cell_type": "code",
   "execution_count": 15,
   "id": "c60de1c3",
   "metadata": {},
   "outputs": [],
   "source": [
    "## Loading inverse solution \n",
    "\n",
    "def load_inverse_solutions_json(json_path, subject_info):\n",
    "    \"\"\"\n",
    "    json_path: path to the saved JSON file\n",
    "    subject_info: dict mapping subject ID to {'date': ..., 'timestamp': ...} for locating subjects_dir\n",
    "    \"\"\"\n",
    "    with open(json_path, 'r') as f:\n",
    "        data = json.load(f)\n",
    "\n",
    "    stc_dict = {}\n",
    "\n",
    "    for subj, stc_data in data.items():\n",
    "        vertices = [np.array(v) for v in stc_data['vertices']]\n",
    "        stc = mne.SourceEstimate(\n",
    "            data=np.array(stc_data['data']),\n",
    "            vertices=vertices,\n",
    "            tmin=stc_data['times'][0],\n",
    "            tstep=stc_data['times'][1] - stc_data['times'][0],  # assumes uniform spacing\n",
    "            subject=subj\n",
    "        )\n",
    "        stc_dict[subj] = stc\n",
    "\n",
    "    return stc_dict"
   ]
  },
  {
   "cell_type": "code",
   "execution_count": null,
   "id": "7b524fc9",
   "metadata": {},
   "outputs": [],
   "source": [
    "## Load in data\n",
    "\n",
    "stc_dict = load_inverse_solutions_json('/work/MattisThierionLund#7144/data/pas4_inverse_solutions.json', subject_info) ### CHANGE PATH PETER\n"
   ]
  },
  {
   "cell_type": "code",
   "execution_count": 17,
   "id": "c11e290e",
   "metadata": {},
   "outputs": [
    {
     "name": "stdout",
     "output_type": "stream",
     "text": [
      "{'0164': <SourceEstimate | 8196 vertices, subject : 0164, tmin : -200.0 (ms), tmax : 550.0000000000007 (ms), tstep : 1.0000000000000009 (ms), data shape : (8196, 751), ~47.0 MiB>, '0165': <SourceEstimate | 8196 vertices, subject : 0165, tmin : -200.0 (ms), tmax : 550.0000000000007 (ms), tstep : 1.0000000000000009 (ms), data shape : (8196, 751), ~47.0 MiB>, '0168': <SourceEstimate | 8196 vertices, subject : 0168, tmin : -200.0 (ms), tmax : 550.0000000000007 (ms), tstep : 1.0000000000000009 (ms), data shape : (8196, 751), ~47.0 MiB>, '0169': <SourceEstimate | 8196 vertices, subject : 0169, tmin : -200.0 (ms), tmax : 550.0000000000007 (ms), tstep : 1.0000000000000009 (ms), data shape : (8196, 751), ~47.0 MiB>, '0170': <SourceEstimate | 8196 vertices, subject : 0170, tmin : -200.0 (ms), tmax : 550.0000000000007 (ms), tstep : 1.0000000000000009 (ms), data shape : (8196, 751), ~47.0 MiB>}\n"
     ]
    }
   ],
   "source": [
    "print(stc_dict)"
   ]
  },
  {
   "cell_type": "code",
   "execution_count": null,
   "id": "0f7cb50c",
   "metadata": {},
   "outputs": [
    {
     "name": "stdout",
     "output_type": "stream",
     "text": [
      "179 files missing from root.txt in /work/MattisThierionLund#7144/brain\n",
      "Downloading missing files remotely\n"
     ]
    },
    {
     "name": "stderr",
     "output_type": "stream",
     "text": [
      "Downloading data from 'https://osf.io/3bxqt/download?version=2' to file '/tmp/tmpbnfgnzd2/temp.zip'.\n"
     ]
    },
    {
     "name": "stderr",
     "output_type": "stream",
     "text": [
      "100%|███████████████████████████████████████| 196M/196M [00:00<00:00, 56.4GB/s]\n"
     ]
    },
    {
     "name": "stdout",
     "output_type": "stream",
     "text": [
      "Extracting missing files\n",
      "Successfully extracted 179 files\n",
      "10 files missing from bem.txt in /work/MattisThierionLund#7144/brain/fsaverage\n",
      "Downloading missing files remotely\n"
     ]
    },
    {
     "name": "stderr",
     "output_type": "stream",
     "text": [
      "Downloading data from 'https://osf.io/7ve8g/download?version=4' to file '/tmp/tmpwqrehe4f/temp.zip'.\n",
      "100%|████████████████████████████████████████| 239M/239M [00:00<00:00, 108GB/s]\n"
     ]
    },
    {
     "name": "stdout",
     "output_type": "stream",
     "text": [
      "Extracting missing files\n",
      "Successfully extracted 10 files\n"
     ]
    }
   ],
   "source": [
    "import mne\n",
    "from mne.datasets import fetch_fsaverage\n",
    "\n",
    "# Path to FreeSurfer subjects directory\n",
    "fs_dir = fetch_fsaverage('/work/MattisThierionLund#7144/brain', verbose=True) ### CHANGE PATH PETER\n",
    "\n",
    "# Template brain\n",
    "template = 'fsaverage'\n"
   ]
  },
  {
   "cell_type": "code",
   "execution_count": 25,
   "id": "6cac4fee",
   "metadata": {},
   "outputs": [
    {
     "name": "stdout",
     "output_type": "stream",
     "text": [
      "Morphing subject 0164...\n",
      "surface source space present ...\n",
      "Computing morph matrix...\n",
      "Morph map \"/work/freesurfer/morph-maps/fsaverage-0164-morph.fif\" does not exist, creating it and saving it to disk\n",
      "Creating morph map 0164 -> fsaverage\n"
     ]
    },
    {
     "name": "stderr",
     "output_type": "stream",
     "text": [
      "/tmp/ipykernel_435/2136793030.py:9: RuntimeWarning: Could not find or make morph map directory \"/work/freesurfer/morph-maps\"\n",
      "  morph = mne.compute_source_morph(\n"
     ]
    },
    {
     "name": "stdout",
     "output_type": "stream",
     "text": [
      "Creating morph map fsaverage -> 0164\n"
     ]
    },
    {
     "name": "stderr",
     "output_type": "stream",
     "text": [
      "/tmp/ipykernel_435/2136793030.py:9: RuntimeWarning: Could not write morph-map file \"/work/freesurfer/morph-maps/fsaverage-0164-morph.fif\" (error: [Errno 2] No such file or directory: '/work/freesurfer/morph-maps/fsaverage-0164-morph.fif')\n",
      "  morph = mne.compute_source_morph(\n"
     ]
    },
    {
     "name": "stdout",
     "output_type": "stream",
     "text": [
      "    5 smooth iterations done.\n"
     ]
    },
    {
     "name": "stderr",
     "output_type": "stream",
     "text": [
      "/tmp/ipykernel_435/2136793030.py:9: RuntimeWarning: 189/150383 vertices not included in smoothing, consider increasing the number of steps\n",
      "  morph = mne.compute_source_morph(\n"
     ]
    },
    {
     "name": "stdout",
     "output_type": "stream",
     "text": [
      "    5 smooth iterations done.\n",
      "[done]\n",
      "[done]\n"
     ]
    },
    {
     "name": "stderr",
     "output_type": "stream",
     "text": [
      "/tmp/ipykernel_435/2136793030.py:9: RuntimeWarning: 197/149698 vertices not included in smoothing, consider increasing the number of steps\n",
      "  morph = mne.compute_source_morph(\n"
     ]
    },
    {
     "name": "stdout",
     "output_type": "stream",
     "text": [
      "Morphing subject 0165...\n",
      "surface source space present ...\n",
      "Computing morph matrix...\n",
      "Morph map \"/work/freesurfer/morph-maps/fsaverage-0165-morph.fif\" does not exist, creating it and saving it to disk\n",
      "Creating morph map 0165 -> fsaverage\n"
     ]
    },
    {
     "name": "stderr",
     "output_type": "stream",
     "text": [
      "/tmp/ipykernel_435/2136793030.py:9: RuntimeWarning: Could not find or make morph map directory \"/work/freesurfer/morph-maps\"\n",
      "  morph = mne.compute_source_morph(\n"
     ]
    },
    {
     "name": "stdout",
     "output_type": "stream",
     "text": [
      "Creating morph map fsaverage -> 0165\n"
     ]
    },
    {
     "name": "stderr",
     "output_type": "stream",
     "text": [
      "/tmp/ipykernel_435/2136793030.py:9: RuntimeWarning: Could not write morph-map file \"/work/freesurfer/morph-maps/fsaverage-0165-morph.fif\" (error: [Errno 2] No such file or directory: '/work/freesurfer/morph-maps/fsaverage-0165-morph.fif')\n",
      "  morph = mne.compute_source_morph(\n"
     ]
    },
    {
     "name": "stdout",
     "output_type": "stream",
     "text": [
      "    5 smooth iterations done.\n"
     ]
    },
    {
     "name": "stderr",
     "output_type": "stream",
     "text": [
      "/tmp/ipykernel_435/2136793030.py:9: RuntimeWarning: 250/150678 vertices not included in smoothing, consider increasing the number of steps\n",
      "  morph = mne.compute_source_morph(\n"
     ]
    },
    {
     "name": "stdout",
     "output_type": "stream",
     "text": [
      "    5 smooth iterations done.\n",
      "[done]\n",
      "[done]\n"
     ]
    },
    {
     "name": "stderr",
     "output_type": "stream",
     "text": [
      "/tmp/ipykernel_435/2136793030.py:9: RuntimeWarning: 379/153070 vertices not included in smoothing, consider increasing the number of steps\n",
      "  morph = mne.compute_source_morph(\n"
     ]
    },
    {
     "name": "stdout",
     "output_type": "stream",
     "text": [
      "Morphing subject 0168...\n",
      "surface source space present ...\n",
      "Computing morph matrix...\n",
      "Morph map \"/work/freesurfer/morph-maps/fsaverage-0168-morph.fif\" does not exist, creating it and saving it to disk\n",
      "Creating morph map 0168 -> fsaverage\n"
     ]
    },
    {
     "name": "stderr",
     "output_type": "stream",
     "text": [
      "/tmp/ipykernel_435/2136793030.py:9: RuntimeWarning: Could not find or make morph map directory \"/work/freesurfer/morph-maps\"\n",
      "  morph = mne.compute_source_morph(\n"
     ]
    },
    {
     "name": "stdout",
     "output_type": "stream",
     "text": [
      "Creating morph map fsaverage -> 0168\n"
     ]
    },
    {
     "name": "stderr",
     "output_type": "stream",
     "text": [
      "/tmp/ipykernel_435/2136793030.py:9: RuntimeWarning: Could not write morph-map file \"/work/freesurfer/morph-maps/fsaverage-0168-morph.fif\" (error: [Errno 2] No such file or directory: '/work/freesurfer/morph-maps/fsaverage-0168-morph.fif')\n",
      "  morph = mne.compute_source_morph(\n"
     ]
    },
    {
     "name": "stdout",
     "output_type": "stream",
     "text": [
      "    5 smooth iterations done.\n"
     ]
    },
    {
     "name": "stderr",
     "output_type": "stream",
     "text": [
      "/tmp/ipykernel_435/2136793030.py:9: RuntimeWarning: 284/157153 vertices not included in smoothing, consider increasing the number of steps\n",
      "  morph = mne.compute_source_morph(\n"
     ]
    },
    {
     "name": "stdout",
     "output_type": "stream",
     "text": [
      "    5 smooth iterations done.\n",
      "[done]\n",
      "[done]\n"
     ]
    },
    {
     "name": "stderr",
     "output_type": "stream",
     "text": [
      "/tmp/ipykernel_435/2136793030.py:9: RuntimeWarning: 252/158047 vertices not included in smoothing, consider increasing the number of steps\n",
      "  morph = mne.compute_source_morph(\n"
     ]
    },
    {
     "name": "stdout",
     "output_type": "stream",
     "text": [
      "Morphing subject 0169...\n",
      "surface source space present ...\n",
      "Computing morph matrix...\n",
      "Morph map \"/work/freesurfer/morph-maps/fsaverage-0169-morph.fif\" does not exist, creating it and saving it to disk\n",
      "Creating morph map 0169 -> fsaverage\n"
     ]
    },
    {
     "name": "stderr",
     "output_type": "stream",
     "text": [
      "/tmp/ipykernel_435/2136793030.py:9: RuntimeWarning: Could not find or make morph map directory \"/work/freesurfer/morph-maps\"\n",
      "  morph = mne.compute_source_morph(\n"
     ]
    },
    {
     "name": "stdout",
     "output_type": "stream",
     "text": [
      "Creating morph map fsaverage -> 0169\n"
     ]
    },
    {
     "name": "stderr",
     "output_type": "stream",
     "text": [
      "/tmp/ipykernel_435/2136793030.py:9: RuntimeWarning: Could not write morph-map file \"/work/freesurfer/morph-maps/fsaverage-0169-morph.fif\" (error: [Errno 2] No such file or directory: '/work/freesurfer/morph-maps/fsaverage-0169-morph.fif')\n",
      "  morph = mne.compute_source_morph(\n"
     ]
    },
    {
     "name": "stdout",
     "output_type": "stream",
     "text": [
      "    5 smooth iterations done.\n"
     ]
    },
    {
     "name": "stderr",
     "output_type": "stream",
     "text": [
      "/tmp/ipykernel_435/2136793030.py:9: RuntimeWarning: 106/137629 vertices not included in smoothing, consider increasing the number of steps\n",
      "  morph = mne.compute_source_morph(\n"
     ]
    },
    {
     "name": "stdout",
     "output_type": "stream",
     "text": [
      "    5 smooth iterations done.\n",
      "[done]\n",
      "[done]\n"
     ]
    },
    {
     "name": "stderr",
     "output_type": "stream",
     "text": [
      "/tmp/ipykernel_435/2136793030.py:9: RuntimeWarning: 80/137629 vertices not included in smoothing, consider increasing the number of steps\n",
      "  morph = mne.compute_source_morph(\n"
     ]
    },
    {
     "name": "stdout",
     "output_type": "stream",
     "text": [
      "Morphing subject 0170...\n",
      "surface source space present ...\n",
      "Computing morph matrix...\n",
      "Morph map \"/work/freesurfer/morph-maps/fsaverage-0170-morph.fif\" does not exist, creating it and saving it to disk\n",
      "Creating morph map 0170 -> fsaverage\n"
     ]
    },
    {
     "name": "stderr",
     "output_type": "stream",
     "text": [
      "/tmp/ipykernel_435/2136793030.py:9: RuntimeWarning: Could not find or make morph map directory \"/work/freesurfer/morph-maps\"\n",
      "  morph = mne.compute_source_morph(\n"
     ]
    },
    {
     "name": "stdout",
     "output_type": "stream",
     "text": [
      "Creating morph map fsaverage -> 0170\n"
     ]
    },
    {
     "name": "stderr",
     "output_type": "stream",
     "text": [
      "/tmp/ipykernel_435/2136793030.py:9: RuntimeWarning: Could not write morph-map file \"/work/freesurfer/morph-maps/fsaverage-0170-morph.fif\" (error: [Errno 2] No such file or directory: '/work/freesurfer/morph-maps/fsaverage-0170-morph.fif')\n",
      "  morph = mne.compute_source_morph(\n"
     ]
    },
    {
     "name": "stdout",
     "output_type": "stream",
     "text": [
      "    5 smooth iterations done.\n"
     ]
    },
    {
     "name": "stderr",
     "output_type": "stream",
     "text": [
      "/tmp/ipykernel_435/2136793030.py:9: RuntimeWarning: 45/127332 vertices not included in smoothing, consider increasing the number of steps\n",
      "  morph = mne.compute_source_morph(\n"
     ]
    },
    {
     "name": "stdout",
     "output_type": "stream",
     "text": [
      "    5 smooth iterations done.\n",
      "[done]\n",
      "[done]\n"
     ]
    },
    {
     "name": "stderr",
     "output_type": "stream",
     "text": [
      "/tmp/ipykernel_435/2136793030.py:9: RuntimeWarning: 26/129779 vertices not included in smoothing, consider increasing the number of steps\n",
      "  morph = mne.compute_source_morph(\n"
     ]
    }
   ],
   "source": [
    "stcs_fsaverage = {}\n",
    "\n",
    "subjects_dir = '/work/freesurfer'\n",
    "\n",
    "for subj_id, stc in stc_dict.items():\n",
    "    print(f\"Morphing subject {subj_id}...\")\n",
    "\n",
    "    # Compute morph from individual subject to fsaverage\n",
    "    morph = mne.compute_source_morph(\n",
    "        stc,\n",
    "        subject_from=subj_id,\n",
    "        subject_to=template,\n",
    "        subjects_dir=subjects_dir,\n",
    "        smooth=5,\n",
    "        verbose=True\n",
    "    )\n",
    "\n",
    "    # Apply morph\n",
    "    stc_fsavg = morph.apply(stc)\n",
    "\n",
    "    # Store in new dict\n",
    "    stcs_fsaverage[subj_id] = stc_fsavg\n"
   ]
  }
 ],
 "metadata": {
  "kernelspec": {
   "display_name": "env",
   "language": "python",
   "name": "python3"
  },
  "language_info": {
   "codemirror_mode": {
    "name": "ipython",
    "version": 3
   },
   "file_extension": ".py",
   "mimetype": "text/x-python",
   "name": "python",
   "nbconvert_exporter": "python",
   "pygments_lexer": "ipython3",
   "version": "3.12.3"
  }
 },
 "nbformat": 4,
 "nbformat_minor": 5
}
